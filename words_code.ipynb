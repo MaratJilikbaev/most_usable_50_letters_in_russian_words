{
 "cells": [
  {
   "cell_type": "code",
   "execution_count": 1,
   "metadata": {},
   "outputs": [],
   "source": [
    "import pandas as pd"
   ]
  },
  {
   "cell_type": "code",
   "execution_count": 59,
   "metadata": {},
   "outputs": [],
   "source": [
    "df_5000_words = pd.read_excel('russian_most_common_words_5000.xlsx')"
   ]
  },
  {
   "cell_type": "code",
   "execution_count": 61,
   "metadata": {},
   "outputs": [],
   "source": [
    "letters_in_words = []\n",
    "\n",
    "for word in df_5000_words['russian_word']:\n",
    "    letters_in_word = {}\n",
    "    list_of_letters = list(word)\n",
    "    for letter in list_of_letters:\n",
    "        if letter not in letters_in_word.keys():\n",
    "            letters_in_word[letter] = 1\n",
    "        else:\n",
    "            letters_in_word[letter] = letters_in_word[letter] + 1\n",
    "    letters_in_words.append([word, letters_in_word])"
   ]
  },
  {
   "cell_type": "code",
   "execution_count": 66,
   "metadata": {},
   "outputs": [
    {
     "data": {
      "text/plain": [
       "[['и', {'и': 1}],\n",
       " ['в', {'в': 1}],\n",
       " ['не', {'н': 1, 'е': 1}],\n",
       " ['он', {'о': 1, 'н': 1}],\n",
       " ['на', {'н': 1, 'а': 1}],\n",
       " ['я', {'я': 1}],\n",
       " ['что', {'ч': 1, 'т': 1, 'о': 1}],\n",
       " ['тот', {'т': 2, 'о': 1}],\n",
       " ['быть', {'б': 1, 'ы': 1, 'т': 1, 'ь': 1}],\n",
       " ['с', {'с': 1}]]"
      ]
     },
     "execution_count": 66,
     "metadata": {},
     "output_type": "execute_result"
    }
   ],
   "source": [
    "letters_in_words[:10]"
   ]
  },
  {
   "cell_type": "code",
   "execution_count": null,
   "metadata": {},
   "outputs": [],
   "source": []
  }
 ],
 "metadata": {
  "kernelspec": {
   "display_name": "Python 3",
   "language": "python",
   "name": "python3"
  },
  "language_info": {
   "codemirror_mode": {
    "name": "ipython",
    "version": 3
   },
   "file_extension": ".py",
   "mimetype": "text/x-python",
   "name": "python",
   "nbconvert_exporter": "python",
   "pygments_lexer": "ipython3",
   "version": "3.8.5"
  }
 },
 "nbformat": 4,
 "nbformat_minor": 4
}
